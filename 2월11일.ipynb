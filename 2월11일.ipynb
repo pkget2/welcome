{
 "cells": [
  {
   "cell_type": "code",
   "execution_count": 4,
   "metadata": {},
   "outputs": [
    {
     "data": {
      "text/plain": [
       "'C:\\\\Users\\\\gonge\\\\Desktop\\\\python_edu'"
      ]
     },
     "execution_count": 4,
     "metadata": {},
     "output_type": "execute_result"
    }
   ],
   "source": [
    "pwd"
   ]
  },
  {
   "cell_type": "code",
   "execution_count": 1,
   "metadata": {},
   "outputs": [],
   "source": [
    "# 모듈 import\n",
    "# 모듈 : 필요한 도구\n",
    "from selenium import webdriver  # selenium 패키지 안에 webdriver 모듈 가져오라는 의미\n",
    "from selenium.webdriver import ActionChains as AC # ActionCHains 모듈 가져와서 AC라는 이름으로 사용하겠다는 의미 #버튼눌러라\n",
    "from tqdm import tqdm          #진행상황을 게이지로 보여주며 실시간 측정.\n",
    "from tqdm import tqdm_notebook\n",
    "import re                        #문자 정제. 해시태그의 해시태그#제거할 때.\n",
    "from time import sleep\n",
    "import time"
   ]
  },
  {
   "cell_type": "code",
   "execution_count": 2,
   "metadata": {},
   "outputs": [
    {
     "name": "stdout",
     "output_type": "stream",
     "text": [
      "Keywords are : 홍대방탈출, 홍대멀티방\n"
     ]
    }
   ],
   "source": [
    "# 데이터 수집할 키워드 지정\n",
    "keywords = [\"홍대방탈출\", \"홍대멀티방\"]\n",
    "print(\"Keywords are : \" + keywords[0] + \", \" + keywords[1])"
   ]
  },
  {
   "cell_type": "code",
   "execution_count": 5,
   "metadata": {},
   "outputs": [],
   "source": [
    "for keyword in keywords:\n",
    "    # 크롬창 띄우기\n",
    "    driver = webdriver.Chrome(\"chromedriver.exe\")  # 크롬 드라이버 로드\n",
    "    driver.get(\"https://www.instagram.com/explore/tags/{0}/?hl=ko\".format(keyword))  # 이 url을 위에 드라이버에 넣어라. \n",
    "                                                                                     # format을 0에 넣어. (여러개면 0,1,2...순서로)\n",
    "    time.sleep(5)\n",
    "    \n"
   ]
  },
  {
   "cell_type": "code",
   "execution_count": 6,
   "metadata": {},
   "outputs": [],
   "source": [
    "dict = {}  "
   ]
  },
  {
   "cell_type": "code",
   "execution_count": 29,
   "metadata": {},
   "outputs": [],
   "source": [
    "# 사진 클릭\n",
    "CSS_tran=\"div.Nnq7C.weEfm .FFVAD\"                         # 사진 버튼 정의 (\"div.Nnq7C.weEfm\")    @@.부모클래스 .자손(한칸 띄고) @@ .찍고 클래스찾아라.\n",
    "tran_button = driver.find_element_by_css_selector(CSS_tran)     # 사진 버튼 찾기  #driver는 위에 정의한 크롬. CSS_tran정의했으니 넣어라.\n",
    "AC(driver).move_to_element(tran_button).click().perform()       # 사진 버튼 클릭\n",
    "time.sleep(1)  "
   ]
  },
  {
   "cell_type": "code",
   "execution_count": null,
   "metadata": {},
   "outputs": [],
   "source": [
    "len_insta = 10   # 몇 개 글을 크롤링 할건지\n",
    "\n",
    "for i in tqdm_notebook(range(0, len_insta)):    # range : 숫자가 1씩 증가하는 리스트를 만드는 함수\n",
    "\n",
    "target_info = {}                                            # 사진별 데이터를 담을 딕셔너리 생성\n",
    "\n",
    "try:    # 크롤링을 시도해라.\n",
    "        # 사진(pic) 크롤링 시작"
   ]
  },
  {
   "cell_type": "code",
   "execution_count": 68,
   "metadata": {},
   "outputs": [
    {
     "name": "stdout",
     "output_type": "stream",
     "text": [
      "{'picture': 'https://scontent-gmp1-1.cdninstagram.com/v/t51.2885-15/e35/39962040_711497722575657_2280395495488618496_n.jpg?_nc_ht=scontent-gmp1-1.cdninstagram.com&_nc_cat=109&_nc_ohc=1FEGpVSnwLAAX-B0gp6&oh=54e6ea9da13949d4000c6d5fc4dac99d&oe=5EE08886'}\n"
     ]
    }
   ],
   "source": [
    "target_info = {}                                            # 사진별 데이터를 담을 딕셔너리 생성\n",
    "\n",
    "overlays1 = \"div._2dDPU.vCf6V .FFVAD\"                   # 사진창 속 사진\n",
    "img = driver.find_element_by_css_selector(overlays1)    # 사진 선택\n",
    "pic = img.get_attribute('src')                          # 사진 url 크롤링 완료 # src의 url가져와라.\n",
    "target_info['picture'] = pic\n",
    "print(target_info)"
   ]
  },
  {
   "cell_type": "raw",
   "metadata": {},
   "source": [
    "# 팔로워도 찾아보기\n",
    "target_info = {}                                            # 사진별 데이터를 담을 딕셔너리 생성\n",
    "\n",
    "overlays3 = \".g47SY.lOXF2\"                                        # 리뷰창 속 날짜\n",
    "datum3 = driver.find_elements_by_css_selector(overlays3)     # 리뷰 선택\n",
    "follower = datum3[1].text\n",
    "target_info['follower'] = follower\n",
    "print(follower) #= 107천"
   ]
  },
  {
   "cell_type": "code",
   "execution_count": 69,
   "metadata": {
    "scrolled": true
   },
   "outputs": [
    {
     "data": {
      "text/plain": [
       "{'picture': 'https://scontent-gmp1-1.cdninstagram.com/v/t51.2885-15/e35/39962040_711497722575657_2280395495488618496_n.jpg?_nc_ht=scontent-gmp1-1.cdninstagram.com&_nc_cat=109&_nc_ohc=1FEGpVSnwLAAX-B0gp6&oh=54e6ea9da13949d4000c6d5fc4dac99d&oe=5EE08886'}"
      ]
     },
     "execution_count": 69,
     "metadata": {},
     "output_type": "execute_result"
    }
   ],
   "source": [
    "target_info"
   ]
  },
  {
   "cell_type": "code",
   "execution_count": null,
   "metadata": {},
   "outputs": [],
   "source": []
  },
  {
   "cell_type": "code",
   "execution_count": null,
   "metadata": {},
   "outputs": [],
   "source": []
  },
  {
   "cell_type": "code",
   "execution_count": null,
   "metadata": {},
   "outputs": [],
   "source": []
  },
  {
   "cell_type": "code",
   "execution_count": null,
   "metadata": {},
   "outputs": [],
   "source": []
  },
  {
   "cell_type": "code",
   "execution_count": null,
   "metadata": {},
   "outputs": [],
   "source": []
  },
  {
   "cell_type": "code",
   "execution_count": null,
   "metadata": {},
   "outputs": [],
   "source": []
  },
  {
   "cell_type": "code",
   "execution_count": null,
   "metadata": {},
   "outputs": [],
   "source": []
  }
 ],
 "metadata": {
  "kernelspec": {
   "display_name": "Python 3",
   "language": "python",
   "name": "python3"
  },
  "language_info": {
   "codemirror_mode": {
    "name": "ipython",
    "version": 3
   },
   "file_extension": ".py",
   "mimetype": "text/x-python",
   "name": "python",
   "nbconvert_exporter": "python",
   "pygments_lexer": "ipython3",
   "version": "3.7.4"
  }
 },
 "nbformat": 4,
 "nbformat_minor": 2
}
